{
 "cells": [
  {
   "cell_type": "markdown",
   "metadata": {},
   "source": [
    "# Continuous Control\n",
    "\n",
    "---\n",
    "\n",
    "In this notebook, you will learn how to use the Unity ML-Agents environment for the second project of the [Deep Reinforcement Learning Nanodegree](https://www.udacity.com/course/deep-reinforcement-learning-nanodegree--nd893) program.\n",
    "\n",
    "\n",
    "--- \n",
    "\n",
    "## 0. Managing dependencies\n",
    "\n",
    "As this report shares mostly of the dependencies as the \"root\" repository forked from Udacity Deep Reinforcement learning, the instruction for handling dependencies are the same as stated at README.md. Please refer to the README at the root of this repository for the original file from which the below section was extracted.\n",
    "\n",
    "### Dependencies\n",
    "\n",
    "To set up your python environment to run the code in this repository, follow the instructions below.\n",
    "\n",
    "1. Create (and activate) a new environment with Python 3.6.\n",
    "\n",
    "\t- __Linux__ or __Mac__: \n",
    "\t```bash\n",
    "\tconda create --name drlnd python=3.6\n",
    "\tsource activate drlnd\n",
    "\t```\n",
    "\t- __Windows__: \n",
    "\t```bash\n",
    "\tconda create --name drlnd python=3.6 \n",
    "\tactivate drlnd\n",
    "\t```\n",
    "\t\n",
    "2. Follow the instructions in [this repository](https://github.com/openai/gym) to perform a minimal install of OpenAI gym.  \n",
    "\t- Next, install the **classic control** environment group by following the instructions [here](https://github.com/openai/gym#classic-control).\n",
    "\t- Then, install the **box2d** environment group by following the instructions [here](https://github.com/openai/gym#box2d).\n",
    "\t\n",
    "3. Clone the repository (if you haven't already!), and navigate to the `python/` folder.  Then, install several dependencies.\n",
    "```bash\n",
    "git clone https://github.com/udacity/deep-reinforcement-learning.git\n",
    "cd deep-reinforcement-learning/python\n",
    "pip install .\n",
    "```\n",
    "\n",
    "4. Create an [IPython kernel](http://ipython.readthedocs.io/en/stable/install/kernel_install.html) for the `drlnd` environment.  \n",
    "```bash\n",
    "python -m ipykernel install --user --name drlnd --display-name \"drlnd\"\n",
    "```\n",
    "\n",
    "5. Before running code in a notebook, change the kernel to match the `drlnd` environment by using the drop-down `Kernel` menu. \n",
    "\n",
    "6. As an final step we need to use the Udacity Reacher environment: They are available in the following versions:\n",
    "\n",
    "    [One agent with visualization](https://s3-us-west-1.amazonaws.com/udacity-drlnd/P2/Reacher/one_agent/Reacher_Linux.zip)\n",
    "\n",
    "    [One agent no visualization](https://s3-us-west-1.amazonaws.com/udacity-drlnd/P2/Reacher/one_agent/Reacher_Linux_NoVis.zip)\n",
    "\n",
    "    [Multi agent with visualization](https://s3-us-west-1.amazonaws.com/udacity-drlnd/P2/Reacher/Reacher_Linux.zip)\n",
    "\n",
    "    [Multi agent no visualization](https://s3-us-west-1.amazonaws.com/udacity-drlnd/P2/Reacher/Reacher_Linux_NoVis.zip)\n",
    "\n",
    "    Just download the correction version and set the variables **MULTI_AGENT** and **VIS_ENABLED** according to the desired version.\n",
    "    \n",
    "    \n",
    "7. As an additional step some dependencies will be handled by using the next cell.\n",
    "\n",
    "8. For running locally with NVIDIA GPU and CUDA, it is necessary to download the correct PyTorch version. Please refer to the instructions at this [link](https://pytorch.org/get-started/locally/).\n",
    "\n"
   ]
  },
  {
   "cell_type": "code",
   "execution_count": 14,
   "metadata": {},
   "outputs": [],
   "source": [
    "!pip -q install ../python"
   ]
  },
  {
   "cell_type": "markdown",
   "metadata": {},
   "source": [
    "## 1. Start the Environment\n",
    "We begin by importing the necessary packages.  If the code cell below returns an error, please revisit the project instructions to double-check that you have installed [Unity ML-Agents](https://github.com/Unity-Technologies/ml-agents/blob/master/docs/Installation.md) and [NumPy](http://www.numpy.org/)."
   ]
  },
  {
   "cell_type": "code",
   "execution_count": 15,
   "metadata": {},
   "outputs": [],
   "source": [
    "from unityagents import UnityEnvironment\n",
    "import numpy as np\n",
    "import matplotlib.pyplot as plt"
   ]
  },
  {
   "cell_type": "markdown",
   "metadata": {},
   "source": [
    "## 2. Configuration\n",
    "\n",
    "The cell below act as an abstraction for using one of the many environment variants of the workspace. If the variable **'MULTI_AGENT'** is set by the user, this workspace will understand that we would like to solve the problem using the Unity simulator with 20 reacher arms, otherwise, the single reacher arm would be used. \n",
    "\n",
    "By enabling the visualization, through the **'VIS_ENABLED'**, the GUI of the simulator can be turned on or off.\n",
    "\n",
    "\n",
    "**NOTE**: Bellow we hardcode the location of the files for the reacher environment. Feel free to adapt it as needed in order to make this notebook run with the desired variant of the problem."
   ]
  },
  {
   "cell_type": "code",
   "execution_count": null,
   "metadata": {},
   "outputs": [],
   "source": [
    "MULTI_AGENT = True\n",
    "VIS_ENABLED = False\n",
    "\n",
    "if 'MULTI_AGENT' in globals() and MULTI_AGENT:\n",
    "    if 'VIS_ENABLED' in globals() and VIS_ENABLED:\n",
    "        env = UnityEnvironment(file_name='./Reacher_Linux/Reacher.x86_64')\n",
    "    else:\n",
    "        env = UnityEnvironment(file_name='./Reacher_Linux_NoVis/Reacher.x86_64')\n",
    "        \n",
    "        \n",
    "else:\n",
    "    if 'VIS_ENABLED' in globals() and VIS_ENABLED:\n",
    "        env = UnityEnvironment(file_name='./Reacher_One_Linux/Reacher_One_Linux_NoVis.x86_64')\n",
    "    else:\n",
    "        env = UnityEnvironment(file_name='./Reacher_One_Linux_NoVis/Reacher_One_Linux_NoVis.x86_64')\n",
    "        \n",
    "        \n",
    "# get the default brain\n",
    "brain_name = env.brain_names[0]\n",
    "brain = env.brains[brain_name]\n",
    "print( env.brain_names )"
   ]
  },
  {
   "cell_type": "code",
   "execution_count": null,
   "metadata": {},
   "outputs": [],
   "source": [
    "print( env.brain_names )"
   ]
  },
  {
   "cell_type": "code",
   "execution_count": 28,
   "metadata": {},
   "outputs": [],
   "source": [
    "from collections import deque\n",
    "import torch"
   ]
  },
  {
   "cell_type": "markdown",
   "metadata": {},
   "source": [
    "## 3. Agent Setup\n",
    "\n",
    "Below we can configure all the necessary parameters that are relevant for the agent training behaviour. \n",
    "\n",
    "| Parameter             |Description                                                                                       |\n",
    "|-----------------------|--------------------------------------------------------------------------------------------------|\n",
    "| state size            | Size of the state the is observed from the agent                                                 |\n",
    "| action size           | Size of the state the agent uses to interact with the environment                                |\n",
    "| random_seed           | Seed used for internally generate random variables                                               |\n",
    "| buffer_size           | Maximum number of entries for the replay buffer                                                  |\n",
    "| batch_size            | How many replay buffer entires will be used for each learning                                    |\n",
    "| gamma                 | Discount factor                                                                                  |\n",
    "| tau                   | Smooth factor used for uptading the local networks parameters from target network parameters     |\n",
    "| lr_actor              | Learning rate for the actor Network                                                              |\n",
    "| lr_critic             | Learning rate for the critic network                                                             |\n",
    "| actor_weight_decay    | L2 Weight regularizer for the actor netowrk                                                      |\n",
    "| critic_weight_decay   | L2 Weight regularizer for the critic network                                                     |   \n",
    "| learn_prescaler       | How many steps the agent should run between each learning                                        |\n",
    "| learning_cycles       | How many many times the agent should run the backprop. proccess after **learn_prescaler** cycles |\n",
    "| noise_initial_gain    | The initial gain applied for the noise added to the network output.                              |\n",
    "| noise_gain_decay      | Factor to multiply **noise_initial_gain** for each step. Makes the noise gain decay as the proccess goes. Keep it 1.0 to disable this behaviour |\n",
    "| sample_every_cycle    | For each **learning_cycles**, if the agent should sample from the replay buffer. If false, the agent will try to run the backprop **learning_cycles** in a row using the same initial sample.                                    |\n",
    "| gradient_limiter      | If the agent should, or should not, limit the gradient for gradient ascent step                   |\n"
   ]
  },
  {
   "cell_type": "code",
   "execution_count": null,
   "metadata": {},
   "outputs": [],
   "source": [
    "env_info = env.reset(train_mode=True)[brain_name]     # reset the environment    \n",
    "# number of agents\n",
    "num_agents = len(env_info.agents)"
   ]
  },
  {
   "cell_type": "code",
   "execution_count": null,
   "metadata": {},
   "outputs": [],
   "source": [
    "%load_ext autoreload\n",
    "%autoreload 2\n",
    "from ddpg_agent import Agent\n",
    "\n",
    "agent = Agent(state_size          = 33, \n",
    "              action_size         = 4, \n",
    "              random_seed         = 2, \n",
    "              buffer_size         = 100000,\n",
    "              batch_size          = 128,\n",
    "              gamma               = 0.99,\n",
    "              tau                 = 1e-3,\n",
    "              lr_actor            = 2e-4,\n",
    "              lr_critic           = 2e-4,\n",
    "              actor_weight_decay  = 0,\n",
    "              critic_weight_decay = 0,\n",
    "              learn_prescaler     = 20, \n",
    "              learning_cycles     = 10, \n",
    "              noise_initial_gain  = 1.0,\n",
    "              noise_gain_decay    = 1.0,\n",
    "              sample_every_cycle  = True, \n",
    "              gradient_limiter    = True)"
   ]
  },
  {
   "cell_type": "markdown",
   "metadata": {},
   "source": [
    "## 3. Agent Network representation\n",
    "\n",
    "In order to expose the network architecture choosen for the project, we implemented the method __repr__() into the ddpg_agent class that print both networks."
   ]
  },
  {
   "cell_type": "code",
   "execution_count": 47,
   "metadata": {},
   "outputs": [
    {
     "name": "stdout",
     "output_type": "stream",
     "text": [
      "Actor(\n",
      "  (fc1): Linear(in_features=33, out_features=256, bias=True)\n",
      "  (fc2): Linear(in_features=256, out_features=128, bias=True)\n",
      "  (fc3): Linear(in_features=128, out_features=4, bias=True)\n",
      "  (bn): BatchNorm1d(256, eps=1e-05, momentum=0.1, affine=True, track_running_stats=True)\n",
      ")\n",
      "\n",
      "\n",
      "Critic(\n",
      "  (fcs1): Linear(in_features=33, out_features=256, bias=True)\n",
      "  (fc2): Linear(in_features=260, out_features=128, bias=True)\n",
      "  (fc3): Linear(in_features=128, out_features=1, bias=True)\n",
      "  (bn): BatchNorm1d(256, eps=1e-05, momentum=0.1, affine=True, track_running_stats=True)\n",
      ")\n"
     ]
    }
   ],
   "source": [
    "print( agent )"
   ]
  },
  {
   "cell_type": "markdown",
   "metadata": {},
   "source": [
    "## 4. Learning proccess\n",
    "\n",
    "The method \"ddpg\", described below, controls the learning algorithm that the agent will perform. As the parameters for this method:\n",
    "\n",
    "| Parameter | Description |\n",
    "|-----------|-------------|\n",
    "|n_episodes | This defines the maximum number of episodes that will be run in order to train the agent\n",
    "|max_t      | When running the simulation, this value address how many iterations the simulation should run before be terminated|\n",
    "|print_every| This controls the size of the deque used in order to smooth out the output and also when to print an output informing the training performance |\n",
    "\n",
    "### Description\n",
    "\n",
    "As a brief description for the learning proccess, at the beginning of each episode the environment is reseted in order to place all agents in a given initial state. \n",
    "\n",
    "Then, for **max_t** iterations the simulation will run and the follow steps are performed:\n",
    "\n",
    "**1.** The environment states are used in order to infer the actions using the local Actor network at the agent.\n",
    "\n",
    "**2.** The actions are passed down to the environment in order to update what each agent should perform given it's present state. One important note is the that the \"act\" function countains a \"implicit\" parameter, **add_noise**, that by default add an random value to the network output. This will allow the agent to explore the environment and add new values to the replay buffer that would not be achieve otherwise.\n",
    "\n",
    "**3.** After updating the simulation the current state, action, next state, rewards and if the agent achieved the desired goal are inserted into the replay buffer. Note that for the multi-agent environment this will be done for each \"tuple\" for these variables. \n",
    "\n",
    "**4.** Finally, the agent **step** method will perform the hard work of adding up this tuple to the replay buffer and at each **learn_prescaler** samples to perform **learning_cycles** back propagation cycles to the network. As stated above if **sample_every_cycle** is True, each backpropagation will update the \"target\" version of the Actor and Critic networks using **batch_size** samples from the replay buffer sampled for each cycle. \n",
    "\n",
    "One important parameter for this step is **tau**, which will smooth out the Target network parameters before applying for the actor and critic network. This proccess is important to make the larning more stable as the most recent result of the gradient ascent will be only contribute to the \"local\" parameters of the networks\n",
    "\n"
   ]
  },
  {
   "cell_type": "code",
   "execution_count": 6,
   "metadata": {},
   "outputs": [
    {
     "name": "stderr",
     "output_type": "stream",
     "text": [
      "/home/bmendonca/workspace/udacity/deep-reinforcement-learning/p2_continuous-control/ddpg_agent.py:170: UserWarning: torch.nn.utils.clip_grad_norm is now deprecated in favor of torch.nn.utils.clip_grad_norm_.\n",
      "  torch.nn.utils.clip_grad_norm(self.critic_local.parameters(), 1)\n"
     ]
    },
    {
     "name": "stdout",
     "output_type": "stream",
     "text": [
      "Episode 100\tAverage Score: 32.25\n",
      "Episode 200\tAverage Score: 33.35\n",
      "Episode 250\tAverage Score: 34.23"
     ]
    },
    {
     "data": {
      "image/png": "[encoded data removed]",
      "text/plain": [
       "<Figure size 432x288 with 1 Axes>"
      ]
     },
     "metadata": {
      "needs_background": "light"
     },
     "output_type": "display_data"
    }
   ],
   "source": [
    "def ddpg(n_episodes=250, max_t=10000, print_every=100):   \n",
    "    scores_deque = deque(maxlen=print_every)\n",
    "    scores = []\n",
    "\n",
    "    \n",
    "    for i_episode in range(1, n_episodes+1):\n",
    "        \n",
    "        states = env.reset(train_mode=True)[brain_name].vector_observations     # reset the environment    \n",
    "        agent.reset()\n",
    "        \n",
    "        scores_episode = np.zeros(num_agents)               # rewards per episode for each agent\n",
    "        \n",
    "        for t in range( max_t ):\n",
    "            actions     = agent.act(states)\n",
    "            env_info    = env.step(actions)[brain_name]     # send all actions to tne environment\n",
    "            next_states = env_info.vector_observations      # get next state (for each agent)\n",
    "            rewards     = env_info.rewards                  # get reward (for each agent)\n",
    "            dones       = env_info.local_done               # see if episode finished\n",
    "            \n",
    "            for (state, action, reward, next_state, done) in zip(states, actions, rewards, next_states, dones):\n",
    "                agent.step(state, action, reward, next_state, done)\n",
    "            \n",
    "            \n",
    "            states = next_states\n",
    "            scores_episode += rewards\n",
    "            \n",
    "            if any(dones):\n",
    "                break \n",
    "                \n",
    "        \n",
    "        #Averaring the mean score across all agents for this episode\n",
    "        mean_score = np.mean( scores_episode )\n",
    "\n",
    "        scores.append( mean_score )\n",
    "        scores_deque.append( mean_score )\n",
    "        \n",
    "        \n",
    "        print('\\rEpisode {}\\tAverage Score: {:.2f}'.format(i_episode, np.mean( scores_deque )), end=\"\")\n",
    "        torch.save(agent.actor_local.state_dict(), 'checkpoint_actor.pth')\n",
    "        torch.save(agent.critic_local.state_dict(), 'checkpoint_critic.pth')\n",
    "        if i_episode % print_every == 0:\n",
    "            print('\\rEpisode {}\\tAverage Score: {:.2f}'.format(i_episode, np.mean( scores_deque )))\n",
    "            \n",
    "    return scores\n",
    "\n",
    "scores = ddpg()\n",
    "\n",
    "fig = plt.figure()\n",
    "ax = fig.add_subplot(111)\n",
    "plt.plot(np.arange(1, len(scores)+1), scores)\n",
    "plt.ylabel('Score')\n",
    "plt.xlabel('Episode #')\n",
    "plt.show()"
   ]
  },
  {
   "cell_type": "code",
   "execution_count": 7,
   "metadata": {},
   "outputs": [
    {
     "name": "stdout",
     "output_type": "stream",
     "text": [
      "Total score (averaged over agents) this episode: 36.87799917571247\n"
     ]
    }
   ],
   "source": [
    "env_info = env.reset(train_mode=False)[brain_name]     # reset the environment    \n",
    "states = env_info.vector_observations                  # get the current state (for each agent)\n",
    "scores = np.zeros(num_agents)                          # initialize the score (for each agent)\n",
    "while True:\n",
    "    actions     = agent.act(states)                    # select an action (for each agent)\n",
    "    env_info = env.step(actions)[brain_name]           # send all actions to tne environment\n",
    "    next_states = env_info.vector_observations         # get next state (for each agent)\n",
    "    rewards = env_info.rewards                         # get reward (for each agent)\n",
    "    dones = env_info.local_done                        # see if episode finished\n",
    "    scores += env_info.rewards                         # update the score (for each agent)\n",
    "    states = next_states                               # roll over states to next time step\n",
    "    if np.any(dones):                                  # exit loop if episode finished\n",
    "        break\n",
    "print('Total score (averaged over agents) this episode: {}'.format(np.mean(scores)))"
   ]
  },
  {
   "cell_type": "code",
   "execution_count": 8,
   "metadata": {},
   "outputs": [],
   "source": [
    "env.close()"
   ]
  },
  {
   "cell_type": "markdown",
   "metadata": {},
   "source": [
    "## Future improvements\n",
    "\n",
    "In order to acheve better training stability, or even to understand how other algorithms works, some points that i would like to test in the future are:\n",
    "\n",
    "### Testing A2C and A3C\n",
    "\n",
    "As was stated in the classes some researchers may not consider DDPG, used for this solution, as an \"Actor-Critic\" in the strict form and, for knowledge, i would like to understand how would be the performance of the Multi-agent DDPG compared to A2C ad A3C methods. \n",
    "\n",
    "### Hyperparemeters Episode-based scaling.\n",
    "\n",
    "As far as i understood adding the random components to the network output allows it to \"explore\" and to diversify it's output and make the Critic more aware of different scenarios which will, eventually, lead to a better exploration of the \"state-space\".\n",
    "\n",
    "As the network progresses training, and this could be evaluated using episodes or even it's score, maybe it would make sense to reduce the noise magnitude added to make it smaller as the training progresses. My suggestion that needs to be proven by data and testing is that this could lead to faster convergenge or, at least, better reaching the network local-máxima, increase it's score."
   ]
  }
 ],
 "metadata": {
  "kernelspec": {
   "display_name": "Python 3",
   "language": "python",
   "name": "python3"
  },
  "language_info": {
   "codemirror_mode": {
    "name": "ipython",
    "version": 3
   },
   "file_extension": ".py",
   "mimetype": "text/x-python",
   "name": "python",
   "nbconvert_exporter": "python",
   "pygments_lexer": "ipython3",
   "version": "3.6.13"
  }
 },
 "nbformat": 4,
 "nbformat_minor": 2
}
