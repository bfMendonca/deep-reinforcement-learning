{
 "cells": [
  {
   "cell_type": "markdown",
   "metadata": {},
   "source": [
    "# Collaboration and Competition\n",
    "\n",
    "---\n",
    "\n",
    "In this notebook, you will learn how to use the Unity ML-Agents environment for the third project of the [Deep Reinforcement Learning Nanodegree](https://www.udacity.com/course/deep-reinforcement-learning-nanodegree--nd893) program.\n",
    "\n",
    "### 1. Start the Environment\n",
    "\n",
    "We begin by importing the necessary packages.  If the code cell below returns an error, please revisit the project instructions to double-check that you have installed [Unity ML-Agents](https://github.com/Unity-Technologies/ml-agents/blob/master/docs/Installation.md) and [NumPy](http://www.numpy.org/)."
   ]
  },
  {
   "cell_type": "code",
   "execution_count": 1,
   "metadata": {
    "scrolled": false
   },
   "outputs": [],
   "source": [
    "from unityagents import UnityEnvironment\n",
    "from collections import deque\n",
    "import numpy as np\n",
    "import random\n",
    "import torch\n"
   ]
  },
  {
   "cell_type": "code",
   "execution_count": 2,
   "metadata": {},
   "outputs": [
    {
     "name": "stderr",
     "output_type": "stream",
     "text": [
      "INFO:unityagents:\n",
      "'Academy' started successfully!\n",
      "Unity Academy name: Academy\n",
      "        Number of Brains: 1\n",
      "        Number of External Brains : 1\n",
      "        Lesson number : 0\n",
      "        Reset Parameters :\n",
      "\t\t\n",
      "Unity brain name: TennisBrain\n",
      "        Number of Visual Observations (per agent): 0\n",
      "        Vector Observation space type: continuous\n",
      "        Vector Observation space size (per agent): 8\n",
      "        Number of stacked Vector Observation: 3\n",
      "        Vector Action space type: continuous\n",
      "        Vector Action space size (per agent): 2\n",
      "        Vector Action descriptions: , \n"
     ]
    }
   ],
   "source": [
    "VIS_ENABLED=False\n",
    "\n",
    "if VIS_ENABLED:\n",
    "    env = UnityEnvironment(file_name=\"./Tennis_Linux/Tennis.x86_64\", worker_id=random.randint(0,100))\n",
    "else:\n",
    "    env = UnityEnvironment(file_name=\"./Tennis_Linux_NoVis/Tennis.x86_64\", worker_id=random.randint(0,100))\n",
    "        \n",
    "# get the default brain\n",
    "brain_name = env.brain_names[0]\n",
    "brain = env.brains[brain_name]"
   ]
  },
  {
   "cell_type": "markdown",
   "metadata": {},
   "source": [
    "### 2. Examine the State and Action Spaces\n",
    "\n",
    "In this environment, two agents control rackets to bounce a ball over a net. If an agent hits the ball over the net, it receives a reward of +0.1.  If an agent lets a ball hit the ground or hits the ball out of bounds, it receives a reward of -0.01.  Thus, the goal of each agent is to keep the ball in play.\n",
    "\n",
    "The observation space consists of 8 variables corresponding to the position and velocity of the ball and racket. Two continuous actions are available, corresponding to movement toward (or away from) the net, and jumping. \n",
    "\n",
    "Run the code cell below to print some information about the environment."
   ]
  },
  {
   "cell_type": "code",
   "execution_count": 3,
   "metadata": {},
   "outputs": [
    {
     "name": "stdout",
     "output_type": "stream",
     "text": [
      "Number of agents: 2\n",
      "Size of each action: 2\n",
      "There are 2 agents. Each observes a state with length: 24\n",
      "The state for the first agent looks like: [ 0.          0.          0.          0.          0.          0.\n",
      "  0.          0.          0.          0.          0.          0.\n",
      "  0.          0.          0.          0.         -6.65278625 -1.5\n",
      " -0.          0.          6.83172083  6.         -0.          0.        ]\n"
     ]
    }
   ],
   "source": [
    "# reset the environment\n",
    "env_info = env.reset(train_mode=True)[brain_name]\n",
    "\n",
    "# number of agents \n",
    "num_agents = len(env_info.agents)\n",
    "print('Number of agents:', num_agents)\n",
    "\n",
    "# size of each action\n",
    "action_size = brain.vector_action_space_size\n",
    "print('Size of each action:', action_size)\n",
    "\n",
    "# examine the state space \n",
    "states = env_info.vector_observations\n",
    "state_size = states.shape[1]\n",
    "print('There are {} agents. Each observes a state with length: {}'.format(states.shape[0], state_size))\n",
    "print('The state for the first agent looks like:', states[0])"
   ]
  },
  {
   "cell_type": "code",
   "execution_count": 4,
   "metadata": {},
   "outputs": [],
   "source": [
    "%load_ext autoreload\n",
    "%autoreload 2\n",
    "from ddpg_agent import Agent\n",
    "\n",
    "agent = Agent(state_size          = state_size, \n",
    "              action_size         = action_size, \n",
    "              random_seed         = 2, \n",
    "              buffer_size         = 100000,\n",
    "              batch_size          = 128,\n",
    "              gamma               = 0.99,\n",
    "              tau                 = 1e-3,\n",
    "              lr_actor            = 2e-4,\n",
    "              lr_critic           = 2e-4,\n",
    "              actor_weight_decay  = 0,\n",
    "              critic_weight_decay = 0,\n",
    "              learn_prescaler     = 20, \n",
    "              learning_cycles     = 10, \n",
    "              noise_initial_gain  = 1.0,\n",
    "              noise_gain_decay    = 1.0,\n",
    "              sample_every_cycle  = True, \n",
    "              gradient_limiter    = True)"
   ]
  },
  {
   "cell_type": "markdown",
   "metadata": {},
   "source": [
    "### 3. Take Random Actions in the Environment\n",
    "\n",
    "In the next code cell, you will learn how to use the Python API to control the agents and receive feedback from the environment.\n",
    "\n",
    "Once this cell is executed, you will watch the agents' performance, if they select actions at random with each time step.  A window should pop up that allows you to observe the agents.\n",
    "\n",
    "Of course, as part of the project, you'll have to change the code so that the agents are able to use their experiences to gradually choose better actions when interacting with the environment!"
   ]
  },
  {
   "cell_type": "code",
   "execution_count": 5,
   "metadata": {
    "scrolled": false
   },
   "outputs": [
    {
     "name": "stdout",
     "output_type": "stream",
     "text": [
      "Episode 5\tAverage Score: 0.00000"
     ]
    },
    {
     "name": "stderr",
     "output_type": "stream",
     "text": [
      "/home/bmendonca/workspace/udacity/deep-reinforcement-learning/p3_collab-compet/ddpg_agent.py:171: UserWarning: torch.nn.utils.clip_grad_norm is now deprecated in favor of torch.nn.utils.clip_grad_norm_.\n",
      "  torch.nn.utils.clip_grad_norm(self.critic_local.parameters(), 1)\n"
     ]
    },
    {
     "name": "stdout",
     "output_type": "stream",
     "text": [
      "Episode 100\tAverage Score: 0.00090\n",
      "Episode 200\tAverage Score: 0.00000\n",
      "Episode 300\tAverage Score: 0.00000\n",
      "Episode 400\tAverage Score: 0.00000\n",
      "Episode 500\tAverage Score: 0.00000\n",
      "Episode 600\tAverage Score: 0.00000\n",
      "Episode 700\tAverage Score: 0.00000\n",
      "Episode 800\tAverage Score: 0.00000\n",
      "Episode 900\tAverage Score: 0.00000\n",
      "Episode 1000\tAverage Score: 0.00000\n",
      "Episode 1100\tAverage Score: 0.00000\n",
      "Episode 1200\tAverage Score: 0.00190\n",
      "Episode 1300\tAverage Score: 0.00000\n",
      "Episode 1400\tAverage Score: 0.00000\n",
      "Episode 1500\tAverage Score: 0.00100\n",
      "Episode 1600\tAverage Score: 0.00000\n",
      "Episode 1700\tAverage Score: 0.00780\n",
      "Episode 1800\tAverage Score: 0.01730\n",
      "Episode 1900\tAverage Score: 0.02370\n",
      "Episode 2000\tAverage Score: 0.00790\n",
      "Episode 2100\tAverage Score: 0.00100\n",
      "Episode 2200\tAverage Score: 0.00100\n",
      "Episode 2300\tAverage Score: 0.00000\n",
      "Episode 2400\tAverage Score: 0.01560\n",
      "Episode 2500\tAverage Score: 0.04590\n",
      "Episode 2600\tAverage Score: 0.05430\n",
      "Episode 2700\tAverage Score: 0.32930\n",
      "Episode 2800\tAverage Score: 0.38990\n",
      "Episode 2900\tAverage Score: 0.13660\n",
      "Episode 3000\tAverage Score: 0.21000\n",
      "Episode 3100\tAverage Score: 0.50380\n",
      "Episode 3200\tAverage Score: 0.30160\n",
      "Episode 3300\tAverage Score: 1.50810\n",
      "Episode 3400\tAverage Score: 1.29960\n",
      "Episode 3500\tAverage Score: 0.92990\n",
      "Episode 3600\tAverage Score: 0.34850\n",
      "Episode 3700\tAverage Score: 0.99990\n",
      "Episode 3800\tAverage Score: 0.74480\n",
      "Episode 3900\tAverage Score: 1.16580\n",
      "Episode 4000\tAverage Score: 1.22180\n",
      "Episode 4100\tAverage Score: 0.81480\n",
      "Episode 4200\tAverage Score: 1.36510\n",
      "Episode 4300\tAverage Score: 1.04520\n",
      "Episode 4400\tAverage Score: 1.64670\n",
      "Episode 4500\tAverage Score: 1.35470\n",
      "Episode 4600\tAverage Score: 0.82630\n",
      "Episode 4700\tAverage Score: 1.54770\n",
      "Episode 4800\tAverage Score: 0.77730\n",
      "Episode 4900\tAverage Score: 1.44290\n",
      "Episode 5000\tAverage Score: 1.14940\n",
      "Episode 5100\tAverage Score: 0.59530\n",
      "Episode 5200\tAverage Score: 1.70580\n",
      "Episode 5300\tAverage Score: 0.95160\n",
      "Episode 5400\tAverage Score: 1.07980\n",
      "Episode 5500\tAverage Score: 0.86420\n",
      "Episode 5600\tAverage Score: 1.14740\n",
      "Episode 5700\tAverage Score: 1.42280\n",
      "Episode 5800\tAverage Score: 1.05680\n",
      "Episode 5900\tAverage Score: 0.94950\n",
      "Episode 6000\tAverage Score: 0.44520\n",
      "Episode 6100\tAverage Score: 0.97540\n",
      "Episode 6200\tAverage Score: 1.05740\n",
      "Episode 6300\tAverage Score: 1.74470\n",
      "Episode 6400\tAverage Score: 1.54750\n",
      "Episode 6500\tAverage Score: 1.63870\n",
      "Episode 6600\tAverage Score: 0.57210\n",
      "Episode 6700\tAverage Score: 1.29080\n",
      "Episode 6800\tAverage Score: 0.91650\n",
      "Episode 6900\tAverage Score: 1.06730\n",
      "Episode 7000\tAverage Score: 1.58410\n",
      "Episode 7100\tAverage Score: 1.29080\n",
      "Episode 7200\tAverage Score: 1.02430\n",
      "Episode 7300\tAverage Score: 0.74150\n",
      "Episode 7400\tAverage Score: 1.29210\n",
      "Episode 7500\tAverage Score: 1.66180\n",
      "Episode 7600\tAverage Score: 0.67740\n",
      "Episode 7700\tAverage Score: 0.83530\n",
      "Episode 7800\tAverage Score: 1.02900\n",
      "Episode 7900\tAverage Score: 0.79140\n",
      "Episode 8000\tAverage Score: 0.76820\n",
      "Episode 8100\tAverage Score: 0.38110\n",
      "Episode 8200\tAverage Score: 1.06750\n",
      "Episode 8300\tAverage Score: 1.63140\n",
      "Episode 8400\tAverage Score: 1.46960\n",
      "Episode 8500\tAverage Score: 1.23460\n",
      "Episode 8600\tAverage Score: 0.89960\n",
      "Episode 8700\tAverage Score: 0.74980\n",
      "Episode 8800\tAverage Score: 0.97010\n",
      "Episode 8900\tAverage Score: 0.60730\n",
      "Episode 9000\tAverage Score: 1.31180\n",
      "Episode 9100\tAverage Score: 1.46180\n",
      "Episode 9200\tAverage Score: 1.47180\n",
      "Episode 9300\tAverage Score: 1.36990\n",
      "Episode 9400\tAverage Score: 1.14010\n",
      "Episode 9500\tAverage Score: 1.55070\n",
      "Episode 9600\tAverage Score: 1.43160\n",
      "Episode 9700\tAverage Score: 0.77250\n",
      "Episode 9800\tAverage Score: 1.26490\n",
      "Episode 9900\tAverage Score: 1.85400\n",
      "Episode 10000\tAverage Score: 1.09550\n"
     ]
    }
   ],
   "source": [
    "def ddpg(n_episodes=10000, max_t=10000, print_every=100):   \n",
    "    scores_deque = deque(maxlen=print_every)\n",
    "    scores = []\n",
    "\n",
    "    \n",
    "    for i_episode in range(1, n_episodes+1):\n",
    "        \n",
    "        states = env.reset(train_mode=True)[brain_name].vector_observations     # reset the environment    \n",
    "        agent.reset()\n",
    "        \n",
    "        scores_episode = np.zeros(num_agents)               # rewards per episode for each agent\n",
    "        \n",
    "        for t in range( max_t ):\n",
    "            actions     = agent.act(states)\n",
    "            env_info    = env.step(actions)[brain_name]     # send all actions to tne environment\n",
    "            next_states = env_info.vector_observations      # get next state (for each agent)\n",
    "            rewards     = env_info.rewards                  # get reward (for each agent)\n",
    "            dones       = env_info.local_done               # see if episode finished\n",
    "            \n",
    "            for (state, action, reward, next_state, done) in zip(states, actions, rewards, next_states, dones):\n",
    "                agent.step(state, action, reward, next_state, done)\n",
    "            \n",
    "            \n",
    "            states = next_states\n",
    "            scores_episode += rewards\n",
    "            \n",
    "            if any(dones):\n",
    "                break \n",
    "                \n",
    "        \n",
    "        #Averaring the mean score across all agents for this episode\n",
    "        ep_score = np.max( scores_episode )\n",
    "\n",
    "        scores.append( ep_score )\n",
    "        scores_deque.append( ep_score )\n",
    "        \n",
    "        \n",
    "        print('\\rEpisode {}\\tAverage Score: {:.5f}'.format(i_episode, np.mean( scores_deque )), end=\"\")\n",
    "        torch.save(agent.actor_local.state_dict(), 'checkpoint_actor.pth')\n",
    "        torch.save(agent.critic_local.state_dict(), 'checkpoint_critic.pth')\n",
    "        if i_episode % print_every == 0:\n",
    "            print('\\rEpisode {}\\tAverage Score: {:.5f}'.format(i_episode, np.mean( scores_deque )))\n",
    "            \n",
    "    return scores\n",
    "\n",
    "scores = ddpg()"
   ]
  },
  {
   "cell_type": "markdown",
   "metadata": {},
   "source": [
    "When finished, you can close the environment."
   ]
  },
  {
   "cell_type": "code",
   "execution_count": 6,
   "metadata": {},
   "outputs": [],
   "source": [
    "env.close()"
   ]
  },
  {
   "cell_type": "code",
   "execution_count": 12,
   "metadata": {},
   "outputs": [
    {
     "data": {
      "image/png": "[encoded data removed]",
      "text/plain": [
       "<Figure size 432x288 with 1 Axes>"
      ]
     },
     "metadata": {
      "needs_background": "light"
     },
     "output_type": "display_data"
    }
   ],
   "source": [
    "import matplotlib.pyplot as plt\n",
    "fig = plt.figure()\n",
    "ax = fig.add_subplot(111)\n",
    "plt.plot(np.arange(1, len(scores)+1), scores)\n",
    "plt.ylabel('Score')\n",
    "plt.xlabel('Episode #')\n",
    "\n",
    "\n",
    "def moving_average(x, w):\n",
    "    return np.convolve(x, np.ones(w), 'valid') / w\n",
    "\n",
    "mean_score = moving_average( scores, 100 )\n",
    "\n",
    "plt.plot( mean_score )\n",
    "plt.show()"
   ]
  }
 ],
 "metadata": {
  "kernelspec": {
   "display_name": "drlnd",
   "language": "python",
   "name": "drlnd"
  },
  "language_info": {
   "codemirror_mode": {
    "name": "ipython",
    "version": 3
   },
   "file_extension": ".py",
   "mimetype": "text/x-python",
   "name": "python",
   "nbconvert_exporter": "python",
   "pygments_lexer": "ipython3",
   "version": "3.6.13"
  }
 },
 "nbformat": 4,
 "nbformat_minor": 2
}
